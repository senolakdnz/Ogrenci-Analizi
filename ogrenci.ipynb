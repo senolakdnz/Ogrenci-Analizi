{
 "cells": [
  {
   "cell_type": "code",
   "execution_count": 1,
   "id": "bc029af9",
   "metadata": {},
   "outputs": [],
   "source": [
    "import pandas as pd"
   ]
  },
  {
   "cell_type": "code",
   "execution_count": 3,
   "id": "a25bf2e0",
   "metadata": {},
   "outputs": [],
   "source": [
    "df = pd.read_csv(\"ogrenci_analiz.csv\")"
   ]
  },
  {
   "cell_type": "code",
   "execution_count": 4,
   "id": "d772b2ec",
   "metadata": {},
   "outputs": [
    {
     "data": {
      "text/html": [
       "<div>\n",
       "<style scoped>\n",
       "    .dataframe tbody tr th:only-of-type {\n",
       "        vertical-align: middle;\n",
       "    }\n",
       "\n",
       "    .dataframe tbody tr th {\n",
       "        vertical-align: top;\n",
       "    }\n",
       "\n",
       "    .dataframe thead th {\n",
       "        text-align: right;\n",
       "    }\n",
       "</style>\n",
       "<table border=\"1\" class=\"dataframe\">\n",
       "  <thead>\n",
       "    <tr style=\"text-align: right;\">\n",
       "      <th></th>\n",
       "      <th>Name</th>\n",
       "      <th>Gender</th>\n",
       "      <th>Age</th>\n",
       "      <th>Education Level</th>\n",
       "      <th>Screen Time (hrs/day)</th>\n",
       "      <th>Sleep Duration (hrs)</th>\n",
       "      <th>Physical Activity (hrs/week)</th>\n",
       "      <th>Stress Level</th>\n",
       "      <th>Anxious Before Exams</th>\n",
       "      <th>Academic Performance Change</th>\n",
       "    </tr>\n",
       "  </thead>\n",
       "  <tbody>\n",
       "    <tr>\n",
       "      <th>0</th>\n",
       "      <td>Aarav</td>\n",
       "      <td>Male</td>\n",
       "      <td>15</td>\n",
       "      <td>Class 8</td>\n",
       "      <td>7.1</td>\n",
       "      <td>8.9</td>\n",
       "      <td>9.3</td>\n",
       "      <td>Medium</td>\n",
       "      <td>No</td>\n",
       "      <td>Same</td>\n",
       "    </tr>\n",
       "    <tr>\n",
       "      <th>1</th>\n",
       "      <td>Meera</td>\n",
       "      <td>Female</td>\n",
       "      <td>25</td>\n",
       "      <td>MSc</td>\n",
       "      <td>3.3</td>\n",
       "      <td>5.0</td>\n",
       "      <td>0.2</td>\n",
       "      <td>Medium</td>\n",
       "      <td>No</td>\n",
       "      <td>Same</td>\n",
       "    </tr>\n",
       "    <tr>\n",
       "      <th>2</th>\n",
       "      <td>Ishaan</td>\n",
       "      <td>Male</td>\n",
       "      <td>20</td>\n",
       "      <td>BTech</td>\n",
       "      <td>9.5</td>\n",
       "      <td>5.4</td>\n",
       "      <td>6.2</td>\n",
       "      <td>Medium</td>\n",
       "      <td>No</td>\n",
       "      <td>Same</td>\n",
       "    </tr>\n",
       "    <tr>\n",
       "      <th>3</th>\n",
       "      <td>Aditya</td>\n",
       "      <td>Male</td>\n",
       "      <td>20</td>\n",
       "      <td>BA</td>\n",
       "      <td>10.8</td>\n",
       "      <td>5.6</td>\n",
       "      <td>5.5</td>\n",
       "      <td>High</td>\n",
       "      <td>Yes</td>\n",
       "      <td>Same</td>\n",
       "    </tr>\n",
       "    <tr>\n",
       "      <th>4</th>\n",
       "      <td>Anika</td>\n",
       "      <td>Female</td>\n",
       "      <td>17</td>\n",
       "      <td>Class 11</td>\n",
       "      <td>2.8</td>\n",
       "      <td>5.4</td>\n",
       "      <td>3.1</td>\n",
       "      <td>Medium</td>\n",
       "      <td>Yes</td>\n",
       "      <td>Same</td>\n",
       "    </tr>\n",
       "  </tbody>\n",
       "</table>\n",
       "</div>"
      ],
      "text/plain": [
       "     Name  Gender  Age Education Level  Screen Time (hrs/day)  \\\n",
       "0   Aarav    Male   15         Class 8                    7.1   \n",
       "1   Meera  Female   25             MSc                    3.3   \n",
       "2  Ishaan    Male   20           BTech                    9.5   \n",
       "3  Aditya    Male   20              BA                   10.8   \n",
       "4   Anika  Female   17        Class 11                    2.8   \n",
       "\n",
       "   Sleep Duration (hrs)  Physical Activity (hrs/week) Stress Level  \\\n",
       "0                   8.9                           9.3       Medium   \n",
       "1                   5.0                           0.2       Medium   \n",
       "2                   5.4                           6.2       Medium   \n",
       "3                   5.6                           5.5         High   \n",
       "4                   5.4                           3.1       Medium   \n",
       "\n",
       "  Anxious Before Exams Academic Performance Change  \n",
       "0                   No                        Same  \n",
       "1                   No                        Same  \n",
       "2                   No                        Same  \n",
       "3                  Yes                        Same  \n",
       "4                  Yes                        Same  "
      ]
     },
     "execution_count": 4,
     "metadata": {},
     "output_type": "execute_result"
    }
   ],
   "source": [
    "df.head()"
   ]
  },
  {
   "cell_type": "code",
   "execution_count": 6,
   "id": "e0356954",
   "metadata": {},
   "outputs": [
    {
     "data": {
      "text/plain": [
       "Index(['Name', 'Gender', 'Age', 'Education Level', 'Screen Time (hrs/day)',\n",
       "       'Sleep Duration (hrs)', 'Physical Activity (hrs/week)', 'Stress Level',\n",
       "       'Anxious Before Exams', 'Academic Performance Change'],\n",
       "      dtype='object')"
      ]
     },
     "execution_count": 6,
     "metadata": {},
     "output_type": "execute_result"
    }
   ],
   "source": [
    "df.columns"
   ]
  },
  {
   "cell_type": "code",
   "execution_count": 16,
   "id": "70337e22",
   "metadata": {},
   "outputs": [],
   "source": [
    "df.columns = ['Ad', 'Cinsiyet', 'Yas', 'Egitim_Seviyesi', 'Ekran_Suresi-saat/gun', 'Uyku_Suresi-saat', 'Fiziksel_Aktivite-saat/hafta',\n",
    "             'Stres_Seviyesi', 'Sınav_Oncesi_Stres', 'Akademik_Performans_Degisikligi']"
   ]
  },
  {
   "cell_type": "code",
   "execution_count": 17,
   "id": "273fe3e8",
   "metadata": {},
   "outputs": [
    {
     "data": {
      "text/plain": [
       "Index(['Ad', 'Cinsiyet', 'Yas', 'Egitim_Seviyesi', 'Ekran_Suresi-saat/gun',\n",
       "       'Uyku_Suresi-saat', 'Fiziksel_Aktivite-saat/hafta', 'Stres_Seviyesi',\n",
       "       'Sınav_Oncesi_Stres', 'Akademik_Performans_Degisikligi'],\n",
       "      dtype='object')"
      ]
     },
     "execution_count": 17,
     "metadata": {},
     "output_type": "execute_result"
    }
   ],
   "source": [
    "df.columns"
   ]
  },
  {
   "cell_type": "code",
   "execution_count": 18,
   "id": "65e8380a",
   "metadata": {},
   "outputs": [
    {
     "data": {
      "text/plain": [
       "Egitim_Seviyesi\n",
       "Teknoloji Yüksek Lisans          143\n",
       "Fen Bilimleri Yüksek Lisans      138\n",
       "Sosyal Bilimler Yüksek Lisans    129\n",
       "11.Sınıf                          88\n",
       "9.Sınıf                           87\n",
       "10.Sınıf                          87\n",
       "Fen Bilimleri Lisans              85\n",
       "Teknoloji Lisans                  84\n",
       "Sosyal Bilimler Lisans            62\n",
       "8.Sınıf                           50\n",
       "12.Sınıf                          47\n",
       "Name: count, dtype: int64"
      ]
     },
     "execution_count": 18,
     "metadata": {},
     "output_type": "execute_result"
    }
   ],
   "source": [
    "df['Egitim_Seviyesi'].value_counts()"
   ]
  },
  {
   "cell_type": "code",
   "execution_count": 19,
   "id": "74e6bbcd",
   "metadata": {},
   "outputs": [],
   "source": [
    "df['Egitim_Seviyesi'] = df['Egitim_Seviyesi'].replace({\n",
    "    'MTech':'Teknoloji Yüksek Lisans',\n",
    "    'MSc':'Fen Bilimleri Yüksek Lisans',\n",
    "    'MA':'Sosyal Bilimler Yüksek Lisans',\n",
    "    'BTech':'Teknoloji Lisans',\n",
    "    'BSc':'Fen Bilimleri Lisans',\n",
    "    'BA':'Sosyal Bilimler Lisans',\n",
    "    'Class 12':'12.Sınıf',\n",
    "    'Class 11':'11.Sınıf',\n",
    "    'Class 10':'10.Sınıf',\n",
    "    'Class 9':'9.Sınıf',\n",
    "    'Class 8':'8.Sınıf'\n",
    "})"
   ]
  },
  {
   "cell_type": "code",
   "execution_count": 20,
   "id": "0f2c8de1",
   "metadata": {},
   "outputs": [
    {
     "data": {
      "text/plain": [
       "Egitim_Seviyesi\n",
       "Teknoloji Yüksek Lisans          143\n",
       "Fen Bilimleri Yüksek Lisans      138\n",
       "Sosyal Bilimler Yüksek Lisans    129\n",
       "11.Sınıf                          88\n",
       "9.Sınıf                           87\n",
       "10.Sınıf                          87\n",
       "Fen Bilimleri Lisans              85\n",
       "Teknoloji Lisans                  84\n",
       "Sosyal Bilimler Lisans            62\n",
       "8.Sınıf                           50\n",
       "12.Sınıf                          47\n",
       "Name: count, dtype: int64"
      ]
     },
     "execution_count": 20,
     "metadata": {},
     "output_type": "execute_result"
    }
   ],
   "source": [
    "df['Egitim_Seviyesi'].value_counts()"
   ]
  },
  {
   "cell_type": "code",
   "execution_count": 22,
   "id": "fb815c88",
   "metadata": {},
   "outputs": [
    {
     "data": {
      "text/plain": [
       "Cinsiyet\n",
       "Male      475\n",
       "Female    475\n",
       "Other      50\n",
       "Name: count, dtype: int64"
      ]
     },
     "execution_count": 22,
     "metadata": {},
     "output_type": "execute_result"
    }
   ],
   "source": [
    "df['Cinsiyet'].value_counts()"
   ]
  },
  {
   "cell_type": "code",
   "execution_count": 23,
   "id": "740a04bf",
   "metadata": {},
   "outputs": [],
   "source": [
    "df['Cinsiyet'] = df['Cinsiyet'].replace({\n",
    "    'Male':'Erkek',\n",
    "    'Female':'Kadın',\n",
    "    'Other':'Diger'\n",
    "})"
   ]
  },
  {
   "cell_type": "code",
   "execution_count": 24,
   "id": "bb84aea0",
   "metadata": {},
   "outputs": [
    {
     "data": {
      "text/plain": [
       "Cinsiyet\n",
       "Erkek    475\n",
       "Kadın    475\n",
       "Diger     50\n",
       "Name: count, dtype: int64"
      ]
     },
     "execution_count": 24,
     "metadata": {},
     "output_type": "execute_result"
    }
   ],
   "source": [
    "df['Cinsiyet'].value_counts()"
   ]
  },
  {
   "cell_type": "code",
   "execution_count": 25,
   "id": "696da346",
   "metadata": {},
   "outputs": [
    {
     "data": {
      "text/plain": [
       "Stres_Seviyesi\n",
       "Medium    492\n",
       "Low       327\n",
       "High      181\n",
       "Name: count, dtype: int64"
      ]
     },
     "execution_count": 25,
     "metadata": {},
     "output_type": "execute_result"
    }
   ],
   "source": [
    "df['Stres_Seviyesi'].value_counts()"
   ]
  },
  {
   "cell_type": "code",
   "execution_count": 26,
   "id": "c99ffcf9",
   "metadata": {},
   "outputs": [],
   "source": [
    "df['Stres_Seviyesi'] = df['Stres_Seviyesi'].replace({\n",
    "    'Medium':'Orta',\n",
    "    'Low':'Düsük',\n",
    "    'High':'Yüksek'\n",
    "})"
   ]
  },
  {
   "cell_type": "code",
   "execution_count": 27,
   "id": "1e5a46ac",
   "metadata": {},
   "outputs": [
    {
     "data": {
      "text/plain": [
       "Stres_Seviyesi\n",
       "Orta      492\n",
       "Düsük     327\n",
       "Yüksek    181\n",
       "Name: count, dtype: int64"
      ]
     },
     "execution_count": 27,
     "metadata": {},
     "output_type": "execute_result"
    }
   ],
   "source": [
    "df['Stres_Seviyesi'].value_counts()"
   ]
  },
  {
   "cell_type": "code",
   "execution_count": 28,
   "id": "1e72e64d",
   "metadata": {},
   "outputs": [
    {
     "data": {
      "text/plain": [
       "Sınav_Oncesi_Stres\n",
       "Yes    513\n",
       "No     487\n",
       "Name: count, dtype: int64"
      ]
     },
     "execution_count": 28,
     "metadata": {},
     "output_type": "execute_result"
    }
   ],
   "source": [
    "df['Sınav_Oncesi_Stres'].value_counts()"
   ]
  },
  {
   "cell_type": "code",
   "execution_count": 30,
   "id": "e62e1869",
   "metadata": {},
   "outputs": [],
   "source": [
    "df['Sınav_Oncesi_Stres'] = df['Sınav_Oncesi_Stres'].replace({'Yes': 1, 'No': 0}).astype(int)"
   ]
  },
  {
   "cell_type": "code",
   "execution_count": 31,
   "id": "fdb89c28",
   "metadata": {},
   "outputs": [
    {
     "data": {
      "text/plain": [
       "Sınav_Oncesi_Stres\n",
       "1    513\n",
       "0    487\n",
       "Name: count, dtype: int64"
      ]
     },
     "execution_count": 31,
     "metadata": {},
     "output_type": "execute_result"
    }
   ],
   "source": [
    "df['Sınav_Oncesi_Stres'].value_counts()"
   ]
  },
  {
   "cell_type": "code",
   "execution_count": 32,
   "id": "f6d90829",
   "metadata": {},
   "outputs": [
    {
     "data": {
      "text/plain": [
       "Akademik_Performans_Degisikligi\n",
       "Same        399\n",
       "Improved    303\n",
       "Declined    298\n",
       "Name: count, dtype: int64"
      ]
     },
     "execution_count": 32,
     "metadata": {},
     "output_type": "execute_result"
    }
   ],
   "source": [
    "df['Akademik_Performans_Degisikligi'].value_counts()"
   ]
  },
  {
   "cell_type": "code",
   "execution_count": 33,
   "id": "8a9515ce",
   "metadata": {},
   "outputs": [],
   "source": [
    "df['Akademik_Performans_Degisikligi'] = df['Akademik_Performans_Degisikligi'].replace({\n",
    "    'Same':'Ayni',\n",
    "    'Improved':'Gelisti',\n",
    "    'Declined':'Geriledi'\n",
    "})"
   ]
  },
  {
   "cell_type": "code",
   "execution_count": 34,
   "id": "5919db4f",
   "metadata": {},
   "outputs": [
    {
     "data": {
      "text/plain": [
       "Akademik_Performans_Degisikligi\n",
       "Ayni        399\n",
       "Gelisti     303\n",
       "Geriledi    298\n",
       "Name: count, dtype: int64"
      ]
     },
     "execution_count": 34,
     "metadata": {},
     "output_type": "execute_result"
    }
   ],
   "source": [
    "df['Akademik_Performans_Degisikligi'].value_counts()"
   ]
  },
  {
   "cell_type": "code",
   "execution_count": 35,
   "id": "b89ba92c",
   "metadata": {},
   "outputs": [
    {
     "data": {
      "text/html": [
       "<div>\n",
       "<style scoped>\n",
       "    .dataframe tbody tr th:only-of-type {\n",
       "        vertical-align: middle;\n",
       "    }\n",
       "\n",
       "    .dataframe tbody tr th {\n",
       "        vertical-align: top;\n",
       "    }\n",
       "\n",
       "    .dataframe thead th {\n",
       "        text-align: right;\n",
       "    }\n",
       "</style>\n",
       "<table border=\"1\" class=\"dataframe\">\n",
       "  <thead>\n",
       "    <tr style=\"text-align: right;\">\n",
       "      <th></th>\n",
       "      <th>Ad</th>\n",
       "      <th>Cinsiyet</th>\n",
       "      <th>Yas</th>\n",
       "      <th>Egitim_Seviyesi</th>\n",
       "      <th>Ekran_Suresi-saat/gun</th>\n",
       "      <th>Uyku_Suresi-saat</th>\n",
       "      <th>Fiziksel_Aktivite-saat/hafta</th>\n",
       "      <th>Stres_Seviyesi</th>\n",
       "      <th>Sınav_Oncesi_Stres</th>\n",
       "      <th>Akademik_Performans_Degisikligi</th>\n",
       "    </tr>\n",
       "  </thead>\n",
       "  <tbody>\n",
       "    <tr>\n",
       "      <th>0</th>\n",
       "      <td>Aarav</td>\n",
       "      <td>Erkek</td>\n",
       "      <td>15</td>\n",
       "      <td>8.Sınıf</td>\n",
       "      <td>7.1</td>\n",
       "      <td>8.9</td>\n",
       "      <td>9.3</td>\n",
       "      <td>Orta</td>\n",
       "      <td>0</td>\n",
       "      <td>Ayni</td>\n",
       "    </tr>\n",
       "    <tr>\n",
       "      <th>1</th>\n",
       "      <td>Meera</td>\n",
       "      <td>Kadın</td>\n",
       "      <td>25</td>\n",
       "      <td>Fen Bilimleri Yüksek Lisans</td>\n",
       "      <td>3.3</td>\n",
       "      <td>5.0</td>\n",
       "      <td>0.2</td>\n",
       "      <td>Orta</td>\n",
       "      <td>0</td>\n",
       "      <td>Ayni</td>\n",
       "    </tr>\n",
       "    <tr>\n",
       "      <th>2</th>\n",
       "      <td>Ishaan</td>\n",
       "      <td>Erkek</td>\n",
       "      <td>20</td>\n",
       "      <td>Teknoloji Lisans</td>\n",
       "      <td>9.5</td>\n",
       "      <td>5.4</td>\n",
       "      <td>6.2</td>\n",
       "      <td>Orta</td>\n",
       "      <td>0</td>\n",
       "      <td>Ayni</td>\n",
       "    </tr>\n",
       "    <tr>\n",
       "      <th>3</th>\n",
       "      <td>Aditya</td>\n",
       "      <td>Erkek</td>\n",
       "      <td>20</td>\n",
       "      <td>Sosyal Bilimler Lisans</td>\n",
       "      <td>10.8</td>\n",
       "      <td>5.6</td>\n",
       "      <td>5.5</td>\n",
       "      <td>Yüksek</td>\n",
       "      <td>1</td>\n",
       "      <td>Ayni</td>\n",
       "    </tr>\n",
       "    <tr>\n",
       "      <th>4</th>\n",
       "      <td>Anika</td>\n",
       "      <td>Kadın</td>\n",
       "      <td>17</td>\n",
       "      <td>11.Sınıf</td>\n",
       "      <td>2.8</td>\n",
       "      <td>5.4</td>\n",
       "      <td>3.1</td>\n",
       "      <td>Orta</td>\n",
       "      <td>1</td>\n",
       "      <td>Ayni</td>\n",
       "    </tr>\n",
       "    <tr>\n",
       "      <th>5</th>\n",
       "      <td>Aditya</td>\n",
       "      <td>Erkek</td>\n",
       "      <td>23</td>\n",
       "      <td>Fen Bilimleri Yüksek Lisans</td>\n",
       "      <td>8.6</td>\n",
       "      <td>8.4</td>\n",
       "      <td>0.1</td>\n",
       "      <td>Düsük</td>\n",
       "      <td>0</td>\n",
       "      <td>Gelisti</td>\n",
       "    </tr>\n",
       "    <tr>\n",
       "      <th>6</th>\n",
       "      <td>Vivaan</td>\n",
       "      <td>Erkek</td>\n",
       "      <td>22</td>\n",
       "      <td>Teknoloji Yüksek Lisans</td>\n",
       "      <td>3.6</td>\n",
       "      <td>6.6</td>\n",
       "      <td>0.5</td>\n",
       "      <td>Orta</td>\n",
       "      <td>1</td>\n",
       "      <td>Gelisti</td>\n",
       "    </tr>\n",
       "    <tr>\n",
       "      <th>7</th>\n",
       "      <td>Arjun</td>\n",
       "      <td>Erkek</td>\n",
       "      <td>25</td>\n",
       "      <td>Teknoloji Yüksek Lisans</td>\n",
       "      <td>7.0</td>\n",
       "      <td>4.7</td>\n",
       "      <td>4.5</td>\n",
       "      <td>Orta</td>\n",
       "      <td>0</td>\n",
       "      <td>Ayni</td>\n",
       "    </tr>\n",
       "    <tr>\n",
       "      <th>8</th>\n",
       "      <td>Sai</td>\n",
       "      <td>Erkek</td>\n",
       "      <td>20</td>\n",
       "      <td>Sosyal Bilimler Lisans</td>\n",
       "      <td>4.8</td>\n",
       "      <td>5.0</td>\n",
       "      <td>7.9</td>\n",
       "      <td>Orta</td>\n",
       "      <td>0</td>\n",
       "      <td>Gelisti</td>\n",
       "    </tr>\n",
       "    <tr>\n",
       "      <th>9</th>\n",
       "      <td>Aadhya</td>\n",
       "      <td>Kadın</td>\n",
       "      <td>16</td>\n",
       "      <td>9.Sınıf</td>\n",
       "      <td>8.9</td>\n",
       "      <td>8.4</td>\n",
       "      <td>7.8</td>\n",
       "      <td>Düsük</td>\n",
       "      <td>1</td>\n",
       "      <td>Gelisti</td>\n",
       "    </tr>\n",
       "    <tr>\n",
       "      <th>10</th>\n",
       "      <td>Kavya</td>\n",
       "      <td>Kadın</td>\n",
       "      <td>15</td>\n",
       "      <td>8.Sınıf</td>\n",
       "      <td>8.0</td>\n",
       "      <td>7.3</td>\n",
       "      <td>0.8</td>\n",
       "      <td>Düsük</td>\n",
       "      <td>0</td>\n",
       "      <td>Ayni</td>\n",
       "    </tr>\n",
       "    <tr>\n",
       "      <th>11</th>\n",
       "      <td>Sai</td>\n",
       "      <td>Erkek</td>\n",
       "      <td>23</td>\n",
       "      <td>Fen Bilimleri Yüksek Lisans</td>\n",
       "      <td>10.3</td>\n",
       "      <td>8.8</td>\n",
       "      <td>3.7</td>\n",
       "      <td>Yüksek</td>\n",
       "      <td>1</td>\n",
       "      <td>Ayni</td>\n",
       "    </tr>\n",
       "    <tr>\n",
       "      <th>12</th>\n",
       "      <td>Myra</td>\n",
       "      <td>Kadın</td>\n",
       "      <td>16</td>\n",
       "      <td>10.Sınıf</td>\n",
       "      <td>5.8</td>\n",
       "      <td>4.4</td>\n",
       "      <td>6.7</td>\n",
       "      <td>Yüksek</td>\n",
       "      <td>0</td>\n",
       "      <td>Ayni</td>\n",
       "    </tr>\n",
       "    <tr>\n",
       "      <th>13</th>\n",
       "      <td>Meera</td>\n",
       "      <td>Kadın</td>\n",
       "      <td>23</td>\n",
       "      <td>Sosyal Bilimler Yüksek Lisans</td>\n",
       "      <td>11.2</td>\n",
       "      <td>4.3</td>\n",
       "      <td>1.4</td>\n",
       "      <td>Düsük</td>\n",
       "      <td>0</td>\n",
       "      <td>Gelisti</td>\n",
       "    </tr>\n",
       "    <tr>\n",
       "      <th>14</th>\n",
       "      <td>Shaurya</td>\n",
       "      <td>Erkek</td>\n",
       "      <td>22</td>\n",
       "      <td>Fen Bilimleri Yüksek Lisans</td>\n",
       "      <td>8.9</td>\n",
       "      <td>7.8</td>\n",
       "      <td>5.3</td>\n",
       "      <td>Yüksek</td>\n",
       "      <td>0</td>\n",
       "      <td>Geriledi</td>\n",
       "    </tr>\n",
       "    <tr>\n",
       "      <th>15</th>\n",
       "      <td>Arjun</td>\n",
       "      <td>Erkek</td>\n",
       "      <td>21</td>\n",
       "      <td>Sosyal Bilimler Yüksek Lisans</td>\n",
       "      <td>11.1</td>\n",
       "      <td>8.5</td>\n",
       "      <td>2.1</td>\n",
       "      <td>Orta</td>\n",
       "      <td>0</td>\n",
       "      <td>Geriledi</td>\n",
       "    </tr>\n",
       "    <tr>\n",
       "      <th>16</th>\n",
       "      <td>Krishna</td>\n",
       "      <td>Erkek</td>\n",
       "      <td>25</td>\n",
       "      <td>Teknoloji Yüksek Lisans</td>\n",
       "      <td>11.5</td>\n",
       "      <td>5.6</td>\n",
       "      <td>0.4</td>\n",
       "      <td>Orta</td>\n",
       "      <td>1</td>\n",
       "      <td>Geriledi</td>\n",
       "    </tr>\n",
       "    <tr>\n",
       "      <th>17</th>\n",
       "      <td>Diya</td>\n",
       "      <td>Kadın</td>\n",
       "      <td>18</td>\n",
       "      <td>11.Sınıf</td>\n",
       "      <td>7.0</td>\n",
       "      <td>4.8</td>\n",
       "      <td>9.9</td>\n",
       "      <td>Düsük</td>\n",
       "      <td>1</td>\n",
       "      <td>Geriledi</td>\n",
       "    </tr>\n",
       "    <tr>\n",
       "      <th>18</th>\n",
       "      <td>Anika</td>\n",
       "      <td>Kadın</td>\n",
       "      <td>16</td>\n",
       "      <td>9.Sınıf</td>\n",
       "      <td>9.7</td>\n",
       "      <td>7.2</td>\n",
       "      <td>1.5</td>\n",
       "      <td>Yüksek</td>\n",
       "      <td>0</td>\n",
       "      <td>Ayni</td>\n",
       "    </tr>\n",
       "    <tr>\n",
       "      <th>19</th>\n",
       "      <td>Vivaan</td>\n",
       "      <td>Erkek</td>\n",
       "      <td>18</td>\n",
       "      <td>11.Sınıf</td>\n",
       "      <td>2.5</td>\n",
       "      <td>7.9</td>\n",
       "      <td>2.8</td>\n",
       "      <td>Yüksek</td>\n",
       "      <td>1</td>\n",
       "      <td>Ayni</td>\n",
       "    </tr>\n",
       "  </tbody>\n",
       "</table>\n",
       "</div>"
      ],
      "text/plain": [
       "         Ad Cinsiyet  Yas                Egitim_Seviyesi  \\\n",
       "0     Aarav    Erkek   15                        8.Sınıf   \n",
       "1     Meera    Kadın   25    Fen Bilimleri Yüksek Lisans   \n",
       "2    Ishaan    Erkek   20               Teknoloji Lisans   \n",
       "3    Aditya    Erkek   20         Sosyal Bilimler Lisans   \n",
       "4     Anika    Kadın   17                       11.Sınıf   \n",
       "5    Aditya    Erkek   23    Fen Bilimleri Yüksek Lisans   \n",
       "6    Vivaan    Erkek   22        Teknoloji Yüksek Lisans   \n",
       "7     Arjun    Erkek   25        Teknoloji Yüksek Lisans   \n",
       "8       Sai    Erkek   20         Sosyal Bilimler Lisans   \n",
       "9    Aadhya    Kadın   16                        9.Sınıf   \n",
       "10    Kavya    Kadın   15                        8.Sınıf   \n",
       "11      Sai    Erkek   23    Fen Bilimleri Yüksek Lisans   \n",
       "12     Myra    Kadın   16                       10.Sınıf   \n",
       "13    Meera    Kadın   23  Sosyal Bilimler Yüksek Lisans   \n",
       "14  Shaurya    Erkek   22    Fen Bilimleri Yüksek Lisans   \n",
       "15    Arjun    Erkek   21  Sosyal Bilimler Yüksek Lisans   \n",
       "16  Krishna    Erkek   25        Teknoloji Yüksek Lisans   \n",
       "17     Diya    Kadın   18                       11.Sınıf   \n",
       "18    Anika    Kadın   16                        9.Sınıf   \n",
       "19   Vivaan    Erkek   18                       11.Sınıf   \n",
       "\n",
       "    Ekran_Suresi-saat/gun  Uyku_Suresi-saat  Fiziksel_Aktivite-saat/hafta  \\\n",
       "0                     7.1               8.9                           9.3   \n",
       "1                     3.3               5.0                           0.2   \n",
       "2                     9.5               5.4                           6.2   \n",
       "3                    10.8               5.6                           5.5   \n",
       "4                     2.8               5.4                           3.1   \n",
       "5                     8.6               8.4                           0.1   \n",
       "6                     3.6               6.6                           0.5   \n",
       "7                     7.0               4.7                           4.5   \n",
       "8                     4.8               5.0                           7.9   \n",
       "9                     8.9               8.4                           7.8   \n",
       "10                    8.0               7.3                           0.8   \n",
       "11                   10.3               8.8                           3.7   \n",
       "12                    5.8               4.4                           6.7   \n",
       "13                   11.2               4.3                           1.4   \n",
       "14                    8.9               7.8                           5.3   \n",
       "15                   11.1               8.5                           2.1   \n",
       "16                   11.5               5.6                           0.4   \n",
       "17                    7.0               4.8                           9.9   \n",
       "18                    9.7               7.2                           1.5   \n",
       "19                    2.5               7.9                           2.8   \n",
       "\n",
       "   Stres_Seviyesi  Sınav_Oncesi_Stres Akademik_Performans_Degisikligi  \n",
       "0            Orta                   0                            Ayni  \n",
       "1            Orta                   0                            Ayni  \n",
       "2            Orta                   0                            Ayni  \n",
       "3          Yüksek                   1                            Ayni  \n",
       "4            Orta                   1                            Ayni  \n",
       "5           Düsük                   0                         Gelisti  \n",
       "6            Orta                   1                         Gelisti  \n",
       "7            Orta                   0                            Ayni  \n",
       "8            Orta                   0                         Gelisti  \n",
       "9           Düsük                   1                         Gelisti  \n",
       "10          Düsük                   0                            Ayni  \n",
       "11         Yüksek                   1                            Ayni  \n",
       "12         Yüksek                   0                            Ayni  \n",
       "13          Düsük                   0                         Gelisti  \n",
       "14         Yüksek                   0                        Geriledi  \n",
       "15           Orta                   0                        Geriledi  \n",
       "16           Orta                   1                        Geriledi  \n",
       "17          Düsük                   1                        Geriledi  \n",
       "18         Yüksek                   0                            Ayni  \n",
       "19         Yüksek                   1                            Ayni  "
      ]
     },
     "execution_count": 35,
     "metadata": {},
     "output_type": "execute_result"
    }
   ],
   "source": [
    "df.head(20)"
   ]
  },
  {
   "cell_type": "code",
   "execution_count": 36,
   "id": "f2c566ac",
   "metadata": {},
   "outputs": [
    {
     "data": {
      "text/plain": [
       "False"
      ]
     },
     "execution_count": 36,
     "metadata": {},
     "output_type": "execute_result"
    }
   ],
   "source": [
    "df['Ad'].isnull().any()"
   ]
  },
  {
   "cell_type": "code",
   "execution_count": 38,
   "id": "01048915",
   "metadata": {},
   "outputs": [
    {
     "data": {
      "text/plain": [
       "False"
      ]
     },
     "execution_count": 38,
     "metadata": {},
     "output_type": "execute_result"
    }
   ],
   "source": [
    "df['Yas'].isnull().any()"
   ]
  },
  {
   "cell_type": "code",
   "execution_count": 39,
   "id": "b44a43bd",
   "metadata": {},
   "outputs": [
    {
     "data": {
      "text/plain": [
       "False"
      ]
     },
     "execution_count": 39,
     "metadata": {},
     "output_type": "execute_result"
    }
   ],
   "source": [
    "df['Ekran_Suresi-saat/gun'].isnull().any()"
   ]
  },
  {
   "cell_type": "code",
   "execution_count": 40,
   "id": "e3dedad2",
   "metadata": {},
   "outputs": [
    {
     "data": {
      "text/plain": [
       "False"
      ]
     },
     "execution_count": 40,
     "metadata": {},
     "output_type": "execute_result"
    }
   ],
   "source": [
    "df['Uyku_Suresi-saat'].isnull().any()"
   ]
  },
  {
   "cell_type": "code",
   "execution_count": 41,
   "id": "53a60991",
   "metadata": {},
   "outputs": [
    {
     "data": {
      "text/plain": [
       "False"
      ]
     },
     "execution_count": 41,
     "metadata": {},
     "output_type": "execute_result"
    }
   ],
   "source": [
    "df['Fiziksel_Aktivite-saat/hafta'].isnull().any()"
   ]
  },
  {
   "cell_type": "code",
   "execution_count": 43,
   "id": "e92dc4f9",
   "metadata": {},
   "outputs": [
    {
     "data": {
      "text/plain": [
       "(1000, 10)"
      ]
     },
     "execution_count": 43,
     "metadata": {},
     "output_type": "execute_result"
    }
   ],
   "source": [
    "df.shape"
   ]
  },
  {
   "cell_type": "code",
   "execution_count": 44,
   "id": "5a565fbb",
   "metadata": {},
   "outputs": [],
   "source": [
    "from sklearn.model_selection import train_test_split\n",
    "from sklearn.preprocessing import LabelEncoder\n",
    "from sklearn.ensemble import RandomForestClassifier\n",
    "from sklearn.metrics import classification_report, confusion_matrix\n",
    "import seaborn as sns\n",
    "import matplotlib.pyplot as plt"
   ]
  },
  {
   "cell_type": "code",
   "execution_count": 45,
   "id": "cee39af9",
   "metadata": {},
   "outputs": [],
   "source": [
    "df = df.drop(columns=['Ad'])"
   ]
  },
  {
   "cell_type": "code",
   "execution_count": 46,
   "id": "fb39d44a",
   "metadata": {},
   "outputs": [
    {
     "data": {
      "text/html": [
       "<div>\n",
       "<style scoped>\n",
       "    .dataframe tbody tr th:only-of-type {\n",
       "        vertical-align: middle;\n",
       "    }\n",
       "\n",
       "    .dataframe tbody tr th {\n",
       "        vertical-align: top;\n",
       "    }\n",
       "\n",
       "    .dataframe thead th {\n",
       "        text-align: right;\n",
       "    }\n",
       "</style>\n",
       "<table border=\"1\" class=\"dataframe\">\n",
       "  <thead>\n",
       "    <tr style=\"text-align: right;\">\n",
       "      <th></th>\n",
       "      <th>Cinsiyet</th>\n",
       "      <th>Yas</th>\n",
       "      <th>Egitim_Seviyesi</th>\n",
       "      <th>Ekran_Suresi-saat/gun</th>\n",
       "      <th>Uyku_Suresi-saat</th>\n",
       "      <th>Fiziksel_Aktivite-saat/hafta</th>\n",
       "      <th>Stres_Seviyesi</th>\n",
       "      <th>Sınav_Oncesi_Stres</th>\n",
       "      <th>Akademik_Performans_Degisikligi</th>\n",
       "    </tr>\n",
       "  </thead>\n",
       "  <tbody>\n",
       "    <tr>\n",
       "      <th>0</th>\n",
       "      <td>Erkek</td>\n",
       "      <td>15</td>\n",
       "      <td>8.Sınıf</td>\n",
       "      <td>7.1</td>\n",
       "      <td>8.9</td>\n",
       "      <td>9.3</td>\n",
       "      <td>Orta</td>\n",
       "      <td>0</td>\n",
       "      <td>Ayni</td>\n",
       "    </tr>\n",
       "    <tr>\n",
       "      <th>1</th>\n",
       "      <td>Kadın</td>\n",
       "      <td>25</td>\n",
       "      <td>Fen Bilimleri Yüksek Lisans</td>\n",
       "      <td>3.3</td>\n",
       "      <td>5.0</td>\n",
       "      <td>0.2</td>\n",
       "      <td>Orta</td>\n",
       "      <td>0</td>\n",
       "      <td>Ayni</td>\n",
       "    </tr>\n",
       "    <tr>\n",
       "      <th>2</th>\n",
       "      <td>Erkek</td>\n",
       "      <td>20</td>\n",
       "      <td>Teknoloji Lisans</td>\n",
       "      <td>9.5</td>\n",
       "      <td>5.4</td>\n",
       "      <td>6.2</td>\n",
       "      <td>Orta</td>\n",
       "      <td>0</td>\n",
       "      <td>Ayni</td>\n",
       "    </tr>\n",
       "    <tr>\n",
       "      <th>3</th>\n",
       "      <td>Erkek</td>\n",
       "      <td>20</td>\n",
       "      <td>Sosyal Bilimler Lisans</td>\n",
       "      <td>10.8</td>\n",
       "      <td>5.6</td>\n",
       "      <td>5.5</td>\n",
       "      <td>Yüksek</td>\n",
       "      <td>1</td>\n",
       "      <td>Ayni</td>\n",
       "    </tr>\n",
       "    <tr>\n",
       "      <th>4</th>\n",
       "      <td>Kadın</td>\n",
       "      <td>17</td>\n",
       "      <td>11.Sınıf</td>\n",
       "      <td>2.8</td>\n",
       "      <td>5.4</td>\n",
       "      <td>3.1</td>\n",
       "      <td>Orta</td>\n",
       "      <td>1</td>\n",
       "      <td>Ayni</td>\n",
       "    </tr>\n",
       "    <tr>\n",
       "      <th>5</th>\n",
       "      <td>Erkek</td>\n",
       "      <td>23</td>\n",
       "      <td>Fen Bilimleri Yüksek Lisans</td>\n",
       "      <td>8.6</td>\n",
       "      <td>8.4</td>\n",
       "      <td>0.1</td>\n",
       "      <td>Düsük</td>\n",
       "      <td>0</td>\n",
       "      <td>Gelisti</td>\n",
       "    </tr>\n",
       "    <tr>\n",
       "      <th>6</th>\n",
       "      <td>Erkek</td>\n",
       "      <td>22</td>\n",
       "      <td>Teknoloji Yüksek Lisans</td>\n",
       "      <td>3.6</td>\n",
       "      <td>6.6</td>\n",
       "      <td>0.5</td>\n",
       "      <td>Orta</td>\n",
       "      <td>1</td>\n",
       "      <td>Gelisti</td>\n",
       "    </tr>\n",
       "    <tr>\n",
       "      <th>7</th>\n",
       "      <td>Erkek</td>\n",
       "      <td>25</td>\n",
       "      <td>Teknoloji Yüksek Lisans</td>\n",
       "      <td>7.0</td>\n",
       "      <td>4.7</td>\n",
       "      <td>4.5</td>\n",
       "      <td>Orta</td>\n",
       "      <td>0</td>\n",
       "      <td>Ayni</td>\n",
       "    </tr>\n",
       "    <tr>\n",
       "      <th>8</th>\n",
       "      <td>Erkek</td>\n",
       "      <td>20</td>\n",
       "      <td>Sosyal Bilimler Lisans</td>\n",
       "      <td>4.8</td>\n",
       "      <td>5.0</td>\n",
       "      <td>7.9</td>\n",
       "      <td>Orta</td>\n",
       "      <td>0</td>\n",
       "      <td>Gelisti</td>\n",
       "    </tr>\n",
       "    <tr>\n",
       "      <th>9</th>\n",
       "      <td>Kadın</td>\n",
       "      <td>16</td>\n",
       "      <td>9.Sınıf</td>\n",
       "      <td>8.9</td>\n",
       "      <td>8.4</td>\n",
       "      <td>7.8</td>\n",
       "      <td>Düsük</td>\n",
       "      <td>1</td>\n",
       "      <td>Gelisti</td>\n",
       "    </tr>\n",
       "    <tr>\n",
       "      <th>10</th>\n",
       "      <td>Kadın</td>\n",
       "      <td>15</td>\n",
       "      <td>8.Sınıf</td>\n",
       "      <td>8.0</td>\n",
       "      <td>7.3</td>\n",
       "      <td>0.8</td>\n",
       "      <td>Düsük</td>\n",
       "      <td>0</td>\n",
       "      <td>Ayni</td>\n",
       "    </tr>\n",
       "    <tr>\n",
       "      <th>11</th>\n",
       "      <td>Erkek</td>\n",
       "      <td>23</td>\n",
       "      <td>Fen Bilimleri Yüksek Lisans</td>\n",
       "      <td>10.3</td>\n",
       "      <td>8.8</td>\n",
       "      <td>3.7</td>\n",
       "      <td>Yüksek</td>\n",
       "      <td>1</td>\n",
       "      <td>Ayni</td>\n",
       "    </tr>\n",
       "    <tr>\n",
       "      <th>12</th>\n",
       "      <td>Kadın</td>\n",
       "      <td>16</td>\n",
       "      <td>10.Sınıf</td>\n",
       "      <td>5.8</td>\n",
       "      <td>4.4</td>\n",
       "      <td>6.7</td>\n",
       "      <td>Yüksek</td>\n",
       "      <td>0</td>\n",
       "      <td>Ayni</td>\n",
       "    </tr>\n",
       "    <tr>\n",
       "      <th>13</th>\n",
       "      <td>Kadın</td>\n",
       "      <td>23</td>\n",
       "      <td>Sosyal Bilimler Yüksek Lisans</td>\n",
       "      <td>11.2</td>\n",
       "      <td>4.3</td>\n",
       "      <td>1.4</td>\n",
       "      <td>Düsük</td>\n",
       "      <td>0</td>\n",
       "      <td>Gelisti</td>\n",
       "    </tr>\n",
       "    <tr>\n",
       "      <th>14</th>\n",
       "      <td>Erkek</td>\n",
       "      <td>22</td>\n",
       "      <td>Fen Bilimleri Yüksek Lisans</td>\n",
       "      <td>8.9</td>\n",
       "      <td>7.8</td>\n",
       "      <td>5.3</td>\n",
       "      <td>Yüksek</td>\n",
       "      <td>0</td>\n",
       "      <td>Geriledi</td>\n",
       "    </tr>\n",
       "    <tr>\n",
       "      <th>15</th>\n",
       "      <td>Erkek</td>\n",
       "      <td>21</td>\n",
       "      <td>Sosyal Bilimler Yüksek Lisans</td>\n",
       "      <td>11.1</td>\n",
       "      <td>8.5</td>\n",
       "      <td>2.1</td>\n",
       "      <td>Orta</td>\n",
       "      <td>0</td>\n",
       "      <td>Geriledi</td>\n",
       "    </tr>\n",
       "    <tr>\n",
       "      <th>16</th>\n",
       "      <td>Erkek</td>\n",
       "      <td>25</td>\n",
       "      <td>Teknoloji Yüksek Lisans</td>\n",
       "      <td>11.5</td>\n",
       "      <td>5.6</td>\n",
       "      <td>0.4</td>\n",
       "      <td>Orta</td>\n",
       "      <td>1</td>\n",
       "      <td>Geriledi</td>\n",
       "    </tr>\n",
       "    <tr>\n",
       "      <th>17</th>\n",
       "      <td>Kadın</td>\n",
       "      <td>18</td>\n",
       "      <td>11.Sınıf</td>\n",
       "      <td>7.0</td>\n",
       "      <td>4.8</td>\n",
       "      <td>9.9</td>\n",
       "      <td>Düsük</td>\n",
       "      <td>1</td>\n",
       "      <td>Geriledi</td>\n",
       "    </tr>\n",
       "    <tr>\n",
       "      <th>18</th>\n",
       "      <td>Kadın</td>\n",
       "      <td>16</td>\n",
       "      <td>9.Sınıf</td>\n",
       "      <td>9.7</td>\n",
       "      <td>7.2</td>\n",
       "      <td>1.5</td>\n",
       "      <td>Yüksek</td>\n",
       "      <td>0</td>\n",
       "      <td>Ayni</td>\n",
       "    </tr>\n",
       "    <tr>\n",
       "      <th>19</th>\n",
       "      <td>Erkek</td>\n",
       "      <td>18</td>\n",
       "      <td>11.Sınıf</td>\n",
       "      <td>2.5</td>\n",
       "      <td>7.9</td>\n",
       "      <td>2.8</td>\n",
       "      <td>Yüksek</td>\n",
       "      <td>1</td>\n",
       "      <td>Ayni</td>\n",
       "    </tr>\n",
       "  </tbody>\n",
       "</table>\n",
       "</div>"
      ],
      "text/plain": [
       "   Cinsiyet  Yas                Egitim_Seviyesi  Ekran_Suresi-saat/gun  \\\n",
       "0     Erkek   15                        8.Sınıf                    7.1   \n",
       "1     Kadın   25    Fen Bilimleri Yüksek Lisans                    3.3   \n",
       "2     Erkek   20               Teknoloji Lisans                    9.5   \n",
       "3     Erkek   20         Sosyal Bilimler Lisans                   10.8   \n",
       "4     Kadın   17                       11.Sınıf                    2.8   \n",
       "5     Erkek   23    Fen Bilimleri Yüksek Lisans                    8.6   \n",
       "6     Erkek   22        Teknoloji Yüksek Lisans                    3.6   \n",
       "7     Erkek   25        Teknoloji Yüksek Lisans                    7.0   \n",
       "8     Erkek   20         Sosyal Bilimler Lisans                    4.8   \n",
       "9     Kadın   16                        9.Sınıf                    8.9   \n",
       "10    Kadın   15                        8.Sınıf                    8.0   \n",
       "11    Erkek   23    Fen Bilimleri Yüksek Lisans                   10.3   \n",
       "12    Kadın   16                       10.Sınıf                    5.8   \n",
       "13    Kadın   23  Sosyal Bilimler Yüksek Lisans                   11.2   \n",
       "14    Erkek   22    Fen Bilimleri Yüksek Lisans                    8.9   \n",
       "15    Erkek   21  Sosyal Bilimler Yüksek Lisans                   11.1   \n",
       "16    Erkek   25        Teknoloji Yüksek Lisans                   11.5   \n",
       "17    Kadın   18                       11.Sınıf                    7.0   \n",
       "18    Kadın   16                        9.Sınıf                    9.7   \n",
       "19    Erkek   18                       11.Sınıf                    2.5   \n",
       "\n",
       "    Uyku_Suresi-saat  Fiziksel_Aktivite-saat/hafta Stres_Seviyesi  \\\n",
       "0                8.9                           9.3           Orta   \n",
       "1                5.0                           0.2           Orta   \n",
       "2                5.4                           6.2           Orta   \n",
       "3                5.6                           5.5         Yüksek   \n",
       "4                5.4                           3.1           Orta   \n",
       "5                8.4                           0.1          Düsük   \n",
       "6                6.6                           0.5           Orta   \n",
       "7                4.7                           4.5           Orta   \n",
       "8                5.0                           7.9           Orta   \n",
       "9                8.4                           7.8          Düsük   \n",
       "10               7.3                           0.8          Düsük   \n",
       "11               8.8                           3.7         Yüksek   \n",
       "12               4.4                           6.7         Yüksek   \n",
       "13               4.3                           1.4          Düsük   \n",
       "14               7.8                           5.3         Yüksek   \n",
       "15               8.5                           2.1           Orta   \n",
       "16               5.6                           0.4           Orta   \n",
       "17               4.8                           9.9          Düsük   \n",
       "18               7.2                           1.5         Yüksek   \n",
       "19               7.9                           2.8         Yüksek   \n",
       "\n",
       "    Sınav_Oncesi_Stres Akademik_Performans_Degisikligi  \n",
       "0                    0                            Ayni  \n",
       "1                    0                            Ayni  \n",
       "2                    0                            Ayni  \n",
       "3                    1                            Ayni  \n",
       "4                    1                            Ayni  \n",
       "5                    0                         Gelisti  \n",
       "6                    1                         Gelisti  \n",
       "7                    0                            Ayni  \n",
       "8                    0                         Gelisti  \n",
       "9                    1                         Gelisti  \n",
       "10                   0                            Ayni  \n",
       "11                   1                            Ayni  \n",
       "12                   0                            Ayni  \n",
       "13                   0                         Gelisti  \n",
       "14                   0                        Geriledi  \n",
       "15                   0                        Geriledi  \n",
       "16                   1                        Geriledi  \n",
       "17                   1                        Geriledi  \n",
       "18                   0                            Ayni  \n",
       "19                   1                            Ayni  "
      ]
     },
     "execution_count": 46,
     "metadata": {},
     "output_type": "execute_result"
    }
   ],
   "source": []
  },
  {
   "cell_type": "code",
   "execution_count": 47,
   "id": "840e9f85",
   "metadata": {},
   "outputs": [],
   "source": [
    "cat_cols = df.select_dtypes(include='object').columns\n",
    "label_encoders = {}\n",
    "for col in cat_cols:\n",
    "    le = LabelEncoder()\n",
    "    df[col] = le.fit_transform(df[col])\n",
    "    label_encoders[col] = le"
   ]
  },
  {
   "cell_type": "code",
   "execution_count": 48,
   "id": "a9020d7b",
   "metadata": {},
   "outputs": [],
   "source": [
    "X = df.drop('Akademik_Performans_Degisikligi', axis=1)\n",
    "y = df['Akademik_Performans_Degisikligi']"
   ]
  },
  {
   "cell_type": "code",
   "execution_count": 49,
   "id": "2702b2f4",
   "metadata": {},
   "outputs": [],
   "source": [
    "X_train, X_test, y_train, y_test = train_test_split(X, y, test_size=0.2, random_state=42)"
   ]
  },
  {
   "cell_type": "code",
   "execution_count": 50,
   "id": "3de4f0ef",
   "metadata": {},
   "outputs": [],
   "source": [
    "model = RandomForestClassifier(n_estimators=100, random_state=42)\n",
    "model.fit(X_train, y_train)\n",
    "y_pred = model.predict(X_test)"
   ]
  },
  {
   "cell_type": "code",
   "execution_count": 51,
   "id": "3a4ee0b6",
   "metadata": {},
   "outputs": [
    {
     "name": "stdout",
     "output_type": "stream",
     "text": [
      "Sınıflandırma Raporu:\n",
      "\n",
      "              precision    recall  f1-score   support\n",
      "\n",
      "        Ayni       0.39      0.47      0.43        79\n",
      "     Gelisti       0.22      0.24      0.23        58\n",
      "    Geriledi       0.31      0.21      0.25        63\n",
      "\n",
      "    accuracy                           0.32       200\n",
      "   macro avg       0.31      0.31      0.30       200\n",
      "weighted avg       0.32      0.32      0.31       200\n",
      "\n"
     ]
    }
   ],
   "source": [
    "print(\"Sınıflandırma Raporu:\\n\")\n",
    "print(classification_report(y_test, y_pred, target_names=label_encoders['Akademik_Performans_Degisikligi'].classes_))"
   ]
  },
  {
   "cell_type": "code",
   "execution_count": 54,
   "id": "a45f5bbe",
   "metadata": {},
   "outputs": [
    {
     "name": "stdout",
     "output_type": "stream",
     "text": [
      "\n",
      "Karışıklık Matrisi:\n"
     ]
    },
    {
     "data": {
      "image/png": "[encoded data removed]",
      "text/plain": [
       "<Figure size 640x480 with 2 Axes>"
      ]
     },
     "metadata": {},
     "output_type": "display_data"
    }
   ],
   "source": [
    "print(\"\\nKarışıklık Matrisi:\")\n",
    "cm = confusion_matrix(y_test, y_pred)\n",
    "sns.heatmap(cm, annot=True, fmt='d', xticklabels=label_encoders['Akademik_Performans_Degisikligi'].classes_, \n",
    "            yticklabels=label_encoders['Akademik_Performans_Degisikligi'].classes_, cmap=\"Blues\")"
   ]
  },
  {
   "cell_type": "code",
   "execution_count": 55,
   "id": "7690f2a5",
   "metadata": {},
   "outputs": [],
   "source": [
    "import numpy as np"
   ]
  },
  {
   "cell_type": "code",
   "execution_count": null,
   "id": "1dc454a5",
   "metadata": {},
   "outputs": [],
   "source": [
    "\"\"\"yeni_ogrenci = {\n",
    "    'Cinsiyet': 'Kadın',\n",
    "    'Yas': 17,\n",
    "    'Egitim_Seviyesi': '11.Sınıf',\n",
    "    'Ekran_Suresi-saat/gun': 4,\n",
    "    'Uyku_Suresi-saat': 7,\n",
    "    'Fiziksel_Aktivite-saat/hafta': 2,\n",
    "    'Stres_Seviyesi': 'Orta',\n",
    "    'Sınav_Oncesi_Stres': 1\n",
    "}\"\"\""
   ]
  },
  {
   "cell_type": "code",
   "execution_count": 58,
   "id": "6f55e4c8",
   "metadata": {
    "scrolled": true
   },
   "outputs": [],
   "source": [
    "yeni_ogrenci_encoded = []\n",
    "for col in X.columns:\n",
    "    if col in label_encoders:\n",
    "        val = label_encoders[col].transform([yeni_ogrenci[col]])[0]\n",
    "    else:\n",
    "        val = yeni_ogrenci[col]\n",
    "    yeni_ogrenci_encoded.append(val)"
   ]
  },
  {
   "cell_type": "code",
   "execution_count": 59,
   "id": "54d217fd",
   "metadata": {},
   "outputs": [
    {
     "name": "stdout",
     "output_type": "stream",
     "text": [
      "Tahmin edilen akademik performans değişikliği: Geriledi\n"
     ]
    },
    {
     "name": "stderr",
     "output_type": "stream",
     "text": [
      "C:\\Users\\senol\\anaconda3\\Lib\\site-packages\\sklearn\\base.py:439: UserWarning: X does not have valid feature names, but RandomForestClassifier was fitted with feature names\n",
      "  warnings.warn(\n"
     ]
    }
   ],
   "source": [
    "tahmin = model.predict([yeni_ogrenci_encoded])[0]\n",
    "tahmin_label = label_encoders['Akademik_Performans_Degisikligi'].inverse_transform([tahmin])[0]\n",
    "\n",
    "print(f\"Tahmin edilen akademik performans değişikliği: {tahmin_label}\")"
   ]
  },
  {
   "cell_type": "code",
   "execution_count": 62,
   "id": "ae3f1ce2",
   "metadata": {},
   "outputs": [],
   "source": [
    "Senol = {\n",
    "    'Cinsiyet':'Erkek',\n",
    "    'Yas':25,\n",
    "    'Egitim_Seviyesi':'Teknoloji Lisans',\n",
    "    'Ekran_Suresi-saat/gun':6,\n",
    "    'Uyku_Suresi-saat':8,\n",
    "    'Fiziksel_Aktivite-saat/hafta':7,\n",
    "    'Stres_Seviyesi':'Düsük',\n",
    "    'Sınav_Oncesi_Stres':0\n",
    "}"
   ]
  },
  {
   "cell_type": "code",
   "execution_count": 63,
   "id": "6ee9845a",
   "metadata": {},
   "outputs": [],
   "source": [
    "Senol_encoded = []\n",
    "for col in X.columns:\n",
    "    if col in label_encoders:\n",
    "        val = label_encoders[col].transform([Senol[col]])[0]\n",
    "    else:\n",
    "        val = Senol[col]\n",
    "    Senol_encoded.append(val)"
   ]
  },
  {
   "cell_type": "code",
   "execution_count": 64,
   "id": "b1dbf52a",
   "metadata": {},
   "outputs": [
    {
     "name": "stdout",
     "output_type": "stream",
     "text": [
      "Tahmin edilen akademik performans değişikliği: Geriledi\n"
     ]
    },
    {
     "name": "stderr",
     "output_type": "stream",
     "text": [
      "C:\\Users\\senol\\anaconda3\\Lib\\site-packages\\sklearn\\base.py:439: UserWarning: X does not have valid feature names, but RandomForestClassifier was fitted with feature names\n",
      "  warnings.warn(\n"
     ]
    }
   ],
   "source": [
    "tahmin = model.predict([Senol_encoded])[0]\n",
    "tahmin_label = label_encoders['Akademik_Performans_Degisikligi'].inverse_transform([tahmin])[0]\n",
    "\n",
    "print(f\"Tahmin edilen akademik performans değişikliği: {tahmin_label}\")"
   ]
  },
  {
   "cell_type": "code",
   "execution_count": 65,
   "id": "50dcd836",
   "metadata": {},
   "outputs": [],
   "source": [
    "import matplotlib.pyplot as plt"
   ]
  },
  {
   "cell_type": "code",
   "execution_count": 66,
   "id": "1bd9c5c0",
   "metadata": {},
   "outputs": [],
   "source": [
    "importances = model.feature_importances_\n",
    "feature_names = X.columns"
   ]
  },
  {
   "cell_type": "code",
   "execution_count": 67,
   "id": "05c7df3c",
   "metadata": {},
   "outputs": [],
   "source": [
    "importance_df = pd.Series(importances, index=feature_names).sort_values(ascending=False)"
   ]
  },
  {
   "cell_type": "code",
   "execution_count": 68,
   "id": "56894ac6",
   "metadata": {},
   "outputs": [
    {
     "data": {
      "image/png": "[encoded data removed]",
      "text/plain": [
       "<Figure size 1000x600 with 1 Axes>"
      ]
     },
     "metadata": {},
     "output_type": "display_data"
    }
   ],
   "source": [
    "plt.figure(figsize=(10, 6))\n",
    "sns.barplot(x=importance_df.values, y=importance_df.index, palette=\"viridis\")\n",
    "plt.title(\"Özellik Önem Düzeyleri (Feature Importances)\")\n",
    "plt.xlabel(\"Önem Skoru\")\n",
    "plt.ylabel(\"Özellikler\")\n",
    "plt.tight_layout()\n",
    "plt.show()"
   ]
  },
  {
   "cell_type": "code",
   "execution_count": 70,
   "id": "14096017",
   "metadata": {},
   "outputs": [
    {
     "data": {
      "text/html": [
       "<div>\n",
       "<style scoped>\n",
       "    .dataframe tbody tr th:only-of-type {\n",
       "        vertical-align: middle;\n",
       "    }\n",
       "\n",
       "    .dataframe tbody tr th {\n",
       "        vertical-align: top;\n",
       "    }\n",
       "\n",
       "    .dataframe thead th {\n",
       "        text-align: right;\n",
       "    }\n",
       "</style>\n",
       "<table border=\"1\" class=\"dataframe\">\n",
       "  <thead>\n",
       "    <tr style=\"text-align: right;\">\n",
       "      <th></th>\n",
       "      <th>Cinsiyet</th>\n",
       "      <th>Yas</th>\n",
       "      <th>Egitim_Seviyesi</th>\n",
       "      <th>Ekran_Suresi-saat/gun</th>\n",
       "      <th>Uyku_Suresi-saat</th>\n",
       "      <th>Fiziksel_Aktivite-saat/hafta</th>\n",
       "      <th>Stres_Seviyesi</th>\n",
       "      <th>Sınav_Oncesi_Stres</th>\n",
       "      <th>Akademik_Performans_Degisikligi</th>\n",
       "    </tr>\n",
       "  </thead>\n",
       "  <tbody>\n",
       "    <tr>\n",
       "      <th>count</th>\n",
       "      <td>1000.00</td>\n",
       "      <td>1000.00</td>\n",
       "      <td>1000.00</td>\n",
       "      <td>1000.00</td>\n",
       "      <td>1000.00</td>\n",
       "      <td>1000.00</td>\n",
       "      <td>1000.00</td>\n",
       "      <td>1000.00</td>\n",
       "      <td>1000.00</td>\n",
       "    </tr>\n",
       "    <tr>\n",
       "      <th>mean</th>\n",
       "      <td>1.42</td>\n",
       "      <td>20.34</td>\n",
       "      <td>5.58</td>\n",
       "      <td>6.91</td>\n",
       "      <td>6.45</td>\n",
       "      <td>5.02</td>\n",
       "      <td>0.85</td>\n",
       "      <td>0.51</td>\n",
       "      <td>0.90</td>\n",
       "    </tr>\n",
       "    <tr>\n",
       "      <th>std</th>\n",
       "      <td>0.59</td>\n",
       "      <td>3.46</td>\n",
       "      <td>3.23</td>\n",
       "      <td>2.91</td>\n",
       "      <td>1.47</td>\n",
       "      <td>2.93</td>\n",
       "      <td>0.70</td>\n",
       "      <td>0.50</td>\n",
       "      <td>0.83</td>\n",
       "    </tr>\n",
       "    <tr>\n",
       "      <th>min</th>\n",
       "      <td>0.00</td>\n",
       "      <td>15.00</td>\n",
       "      <td>0.00</td>\n",
       "      <td>2.00</td>\n",
       "      <td>4.00</td>\n",
       "      <td>0.00</td>\n",
       "      <td>0.00</td>\n",
       "      <td>0.00</td>\n",
       "      <td>0.00</td>\n",
       "    </tr>\n",
       "    <tr>\n",
       "      <th>25%</th>\n",
       "      <td>1.00</td>\n",
       "      <td>17.00</td>\n",
       "      <td>3.00</td>\n",
       "      <td>4.40</td>\n",
       "      <td>5.10</td>\n",
       "      <td>2.60</td>\n",
       "      <td>0.00</td>\n",
       "      <td>0.00</td>\n",
       "      <td>0.00</td>\n",
       "    </tr>\n",
       "    <tr>\n",
       "      <th>50%</th>\n",
       "      <td>1.00</td>\n",
       "      <td>20.00</td>\n",
       "      <td>6.00</td>\n",
       "      <td>6.90</td>\n",
       "      <td>6.50</td>\n",
       "      <td>5.00</td>\n",
       "      <td>1.00</td>\n",
       "      <td>1.00</td>\n",
       "      <td>1.00</td>\n",
       "    </tr>\n",
       "    <tr>\n",
       "      <th>75%</th>\n",
       "      <td>2.00</td>\n",
       "      <td>23.00</td>\n",
       "      <td>8.00</td>\n",
       "      <td>9.50</td>\n",
       "      <td>7.70</td>\n",
       "      <td>7.60</td>\n",
       "      <td>1.00</td>\n",
       "      <td>1.00</td>\n",
       "      <td>2.00</td>\n",
       "    </tr>\n",
       "    <tr>\n",
       "      <th>max</th>\n",
       "      <td>2.00</td>\n",
       "      <td>26.00</td>\n",
       "      <td>10.00</td>\n",
       "      <td>12.00</td>\n",
       "      <td>9.00</td>\n",
       "      <td>10.00</td>\n",
       "      <td>2.00</td>\n",
       "      <td>1.00</td>\n",
       "      <td>2.00</td>\n",
       "    </tr>\n",
       "  </tbody>\n",
       "</table>\n",
       "</div>"
      ],
      "text/plain": [
       "       Cinsiyet      Yas  Egitim_Seviyesi  Ekran_Suresi-saat/gun  \\\n",
       "count   1000.00  1000.00          1000.00                1000.00   \n",
       "mean       1.42    20.34             5.58                   6.91   \n",
       "std        0.59     3.46             3.23                   2.91   \n",
       "min        0.00    15.00             0.00                   2.00   \n",
       "25%        1.00    17.00             3.00                   4.40   \n",
       "50%        1.00    20.00             6.00                   6.90   \n",
       "75%        2.00    23.00             8.00                   9.50   \n",
       "max        2.00    26.00            10.00                  12.00   \n",
       "\n",
       "       Uyku_Suresi-saat  Fiziksel_Aktivite-saat/hafta  Stres_Seviyesi  \\\n",
       "count           1000.00                       1000.00         1000.00   \n",
       "mean               6.45                          5.02            0.85   \n",
       "std                1.47                          2.93            0.70   \n",
       "min                4.00                          0.00            0.00   \n",
       "25%                5.10                          2.60            0.00   \n",
       "50%                6.50                          5.00            1.00   \n",
       "75%                7.70                          7.60            1.00   \n",
       "max                9.00                         10.00            2.00   \n",
       "\n",
       "       Sınav_Oncesi_Stres  Akademik_Performans_Degisikligi  \n",
       "count             1000.00                          1000.00  \n",
       "mean                 0.51                             0.90  \n",
       "std                  0.50                             0.83  \n",
       "min                  0.00                             0.00  \n",
       "25%                  0.00                             0.00  \n",
       "50%                  1.00                             1.00  \n",
       "75%                  1.00                             2.00  \n",
       "max                  1.00                             2.00  "
      ]
     },
     "execution_count": 70,
     "metadata": {},
     "output_type": "execute_result"
    }
   ],
   "source": [
    "df.describe().round(2)"
   ]
  },
  {
   "cell_type": "code",
   "execution_count": null,
   "id": "f55d3d91",
   "metadata": {},
   "outputs": [],
   "source": []
  }
 ],
 "metadata": {
  "kernelspec": {
   "display_name": "Python 3 (ipykernel)",
   "language": "python",
   "name": "python3"
  },
  "language_info": {
   "codemirror_mode": {
    "name": "ipython",
    "version": 3
   },
   "file_extension": ".py",
   "mimetype": "text/x-python",
   "name": "python",
   "nbconvert_exporter": "python",
   "pygments_lexer": "ipython3",
   "version": "3.11.7"
  }
 },
 "nbformat": 4,
 "nbformat_minor": 5
}
